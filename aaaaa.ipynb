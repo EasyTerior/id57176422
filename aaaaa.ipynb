{
 "cells": [
  {
   "cell_type": "code",
   "execution_count": null,
   "metadata": {},
   "outputs": [],
   "source": [
    "import numpy as np\n",
    "import pandas as pd\n",
    "import matplotlib.pyplot as plt"
   ]
  },
  {
   "cell_type": "code",
   "execution_count": 3,
   "metadata": {},
   "outputs": [
    {
     "name": "stdout",
     "output_type": "stream",
     "text": [
      "D:\\id57176422\n"
     ]
    }
   ],
   "source": [
    "%cd D:/id57176422"
   ]
  },
  {
   "cell_type": "code",
   "execution_count": 4,
   "metadata": {},
   "outputs": [
    {
     "data": {
      "text/plain": [
       "'D:\\\\id57176422'"
      ]
     },
     "execution_count": 4,
     "metadata": {},
     "output_type": "execute_result"
    }
   ],
   "source": [
    "%pwd"
   ]
  },
  {
   "cell_type": "code",
   "execution_count": 5,
   "metadata": {},
   "outputs": [
    {
     "name": "stderr",
     "output_type": "stream",
     "text": [
      "Cloning into 'yolov5'...\n"
     ]
    }
   ],
   "source": [
    "!git clone https://github.com/ultralytics/yolov5.git"
   ]
  },
  {
   "cell_type": "code",
   "execution_count": 13,
   "metadata": {},
   "outputs": [
    {
     "name": "stdout",
     "output_type": "stream",
     "text": [
      "D:\\id57176422\\yolov5\n",
      "Collecting gitpython>=3.1.30\n",
      "  Downloading GitPython-3.1.31-py3-none-any.whl (184 kB)\n",
      "     ---------------------------------------- 184.3/184.3 kB ? eta 0:00:00\n",
      "Collecting matplotlib>=3.3\n",
      "  Downloading matplotlib-3.7.1-cp311-cp311-win_amd64.whl (7.6 MB)\n",
      "     ---------------------------------------- 7.6/7.6 MB 16.8 MB/s eta 0:00:00\n",
      "Requirement already satisfied: numpy>=1.18.5 in c:\\python\\lib\\site-packages (from -r requirements.txt (line 7)) (1.24.3)\n",
      "Requirement already satisfied: opencv-python>=4.1.1 in c:\\python\\lib\\site-packages (from -r requirements.txt (line 8)) (4.7.0.72)\n",
      "Collecting Pillow>=7.1.2\n",
      "  Downloading Pillow-9.5.0-cp311-cp311-win_amd64.whl (2.5 MB)\n",
      "     ---------------------------------------- 2.5/2.5 MB 53.2 MB/s eta 0:00:00\n",
      "Requirement already satisfied: psutil in c:\\users\\idjyi\\appdata\\roaming\\python\\python311\\site-packages (from -r requirements.txt (line 10)) (5.9.5)\n",
      "Collecting PyYAML>=5.3.1\n",
      "  Downloading PyYAML-6.0-cp311-cp311-win_amd64.whl (143 kB)\n",
      "     -------------------------------------- 143.2/143.2 kB 8.9 MB/s eta 0:00:00\n",
      "Requirement already satisfied: requests>=2.23.0 in c:\\python\\lib\\site-packages (from -r requirements.txt (line 12)) (2.31.0)\n",
      "Collecting scipy>=1.4.1\n",
      "  Downloading scipy-1.10.1-cp311-cp311-win_amd64.whl (42.2 MB)\n",
      "     --------------------------------------- 42.2/42.2 MB 29.8 MB/s eta 0:00:00\n",
      "Collecting thop>=0.1.1\n",
      "  Downloading thop-0.1.1.post2209072238-py3-none-any.whl (15 kB)\n",
      "Collecting torch>=1.7.0\n",
      "  Downloading torch-2.0.1-cp311-cp311-win_amd64.whl (172.3 MB)\n",
      "     ------------------------------------- 172.3/172.3 MB 16.8 MB/s eta 0:00:00\n",
      "Collecting torchvision>=0.8.1\n",
      "  Downloading torchvision-0.15.2-cp311-cp311-win_amd64.whl (1.2 MB)\n",
      "     ---------------------------------------- 1.2/1.2 MB 74.1 MB/s eta 0:00:00\n",
      "Collecting tqdm>=4.64.0\n",
      "  Downloading tqdm-4.65.0-py3-none-any.whl (77 kB)\n",
      "     ---------------------------------------- 77.1/77.1 kB ? eta 0:00:00\n",
      "Collecting ultralytics>=8.0.100\n",
      "  Downloading ultralytics-8.0.110-py3-none-any.whl (592 kB)\n",
      "     ------------------------------------- 592.7/592.7 kB 36.4 MB/s eta 0:00:00\n",
      "Collecting pandas>=1.1.4\n",
      "  Downloading pandas-2.0.2-cp311-cp311-win_amd64.whl (10.6 MB)\n",
      "     --------------------------------------- 10.6/10.6 MB 32.8 MB/s eta 0:00:00\n",
      "Collecting seaborn>=0.11.0\n",
      "  Downloading seaborn-0.12.2-py3-none-any.whl (293 kB)\n",
      "     ---------------------------------------- 293.3/293.3 kB ? eta 0:00:00\n",
      "Collecting setuptools>=65.5.1\n",
      "  Downloading setuptools-67.8.0-py3-none-any.whl (1.1 MB)\n",
      "     ---------------------------------------- 1.1/1.1 MB 23.6 MB/s eta 0:00:00\n",
      "Collecting gitdb<5,>=4.0.1\n",
      "  Downloading gitdb-4.0.10-py3-none-any.whl (62 kB)\n",
      "     ---------------------------------------- 62.7/62.7 kB ? eta 0:00:00\n",
      "Collecting contourpy>=1.0.1\n",
      "  Downloading contourpy-1.0.7-cp311-cp311-win_amd64.whl (162 kB)\n",
      "     ------------------------------------- 163.0/163.0 kB 10.2 MB/s eta 0:00:00\n",
      "Collecting cycler>=0.10\n",
      "  Using cached cycler-0.11.0-py3-none-any.whl (6.4 kB)\n",
      "Collecting fonttools>=4.22.0\n",
      "  Using cached fonttools-4.39.4-py3-none-any.whl (1.0 MB)\n",
      "Collecting kiwisolver>=1.0.1\n",
      "  Downloading kiwisolver-1.4.4-cp311-cp311-win_amd64.whl (55 kB)\n",
      "     ---------------------------------------- 55.4/55.4 kB 2.8 MB/s eta 0:00:00\n",
      "Requirement already satisfied: packaging>=20.0 in c:\\users\\idjyi\\appdata\\roaming\\python\\python311\\site-packages (from matplotlib>=3.3->-r requirements.txt (line 6)) (23.1)\n",
      "Collecting pyparsing>=2.3.1\n",
      "  Using cached pyparsing-3.0.9-py3-none-any.whl (98 kB)\n",
      "Requirement already satisfied: python-dateutil>=2.7 in c:\\users\\idjyi\\appdata\\roaming\\python\\python311\\site-packages (from matplotlib>=3.3->-r requirements.txt (line 6)) (2.8.2)\n",
      "Requirement already satisfied: charset-normalizer<4,>=2 in c:\\python\\lib\\site-packages (from requests>=2.23.0->-r requirements.txt (line 12)) (3.1.0)\n",
      "Requirement already satisfied: idna<4,>=2.5 in c:\\python\\lib\\site-packages (from requests>=2.23.0->-r requirements.txt (line 12)) (3.4)\n",
      "Requirement already satisfied: urllib3<3,>=1.21.1 in c:\\python\\lib\\site-packages (from requests>=2.23.0->-r requirements.txt (line 12)) (2.0.2)\n",
      "Requirement already satisfied: certifi>=2017.4.17 in c:\\python\\lib\\site-packages (from requests>=2.23.0->-r requirements.txt (line 12)) (2023.5.7)\n",
      "Collecting filelock\n",
      "  Downloading filelock-3.12.0-py3-none-any.whl (10 kB)\n",
      "Collecting typing-extensions\n",
      "  Downloading typing_extensions-4.6.2-py3-none-any.whl (31 kB)\n",
      "Collecting sympy\n",
      "  Downloading sympy-1.12-py3-none-any.whl (5.7 MB)\n",
      "     ---------------------------------------- 5.7/5.7 MB 17.5 MB/s eta 0:00:00\n",
      "Collecting networkx\n",
      "  Downloading networkx-3.1-py3-none-any.whl (2.1 MB)\n",
      "     ---------------------------------------- 2.1/2.1 MB 14.6 MB/s eta 0:00:00\n",
      "Requirement already satisfied: jinja2 in c:\\python\\lib\\site-packages (from torch>=1.7.0->-r requirements.txt (line 15)) (3.1.2)\n",
      "Requirement already satisfied: colorama in c:\\python\\lib\\site-packages (from tqdm>=4.64.0->-r requirements.txt (line 17)) (0.4.6)\n",
      "Collecting pytz>=2020.1\n",
      "  Downloading pytz-2023.3-py2.py3-none-any.whl (502 kB)\n",
      "     -------------------------------------- 502.3/502.3 kB 4.5 MB/s eta 0:00:00\n",
      "Collecting tzdata>=2022.1\n",
      "  Downloading tzdata-2023.3-py2.py3-none-any.whl (341 kB)\n",
      "     -------------------------------------- 341.8/341.8 kB 7.1 MB/s eta 0:00:00\n",
      "Collecting smmap<6,>=3.0.1\n",
      "  Downloading smmap-5.0.0-py3-none-any.whl (24 kB)\n",
      "Requirement already satisfied: six>=1.5 in c:\\users\\idjyi\\appdata\\roaming\\python\\python311\\site-packages (from python-dateutil>=2.7->matplotlib>=3.3->-r requirements.txt (line 6)) (1.16.0)\n",
      "Requirement already satisfied: MarkupSafe>=2.0 in c:\\python\\lib\\site-packages (from jinja2->torch>=1.7.0->-r requirements.txt (line 15)) (2.1.2)\n",
      "Collecting mpmath>=0.19\n",
      "  Downloading mpmath-1.3.0-py3-none-any.whl (536 kB)\n",
      "     ------------------------------------- 536.2/536.2 kB 32.9 MB/s eta 0:00:00\n",
      "Installing collected packages: pytz, mpmath, tzdata, typing-extensions, tqdm, sympy, smmap, setuptools, scipy, PyYAML, pyparsing, Pillow, networkx, kiwisolver, fonttools, filelock, cycler, contourpy, torch, pandas, matplotlib, gitdb, torchvision, thop, seaborn, gitpython, ultralytics\n",
      "  Attempting uninstall: setuptools\n",
      "    Found existing installation: setuptools 65.5.0\n",
      "    Uninstalling setuptools-65.5.0:\n",
      "      Successfully uninstalled setuptools-65.5.0\n"
     ]
    },
    {
     "name": "stderr",
     "output_type": "stream",
     "text": [
      "ERROR: Could not install packages due to an OSError: [WinError 32] 다른 프로세스가 파일을 사용 중이기 때문에 프로세스가 액세스 할 수 없습니다: 'C:\\\\Python\\\\Lib\\\\site-packages\\\\pandas\\\\tests\\\\indexing\\\\common.py'\n",
      "Consider using the `--user` option or check the permissions.\n",
      "\n",
      "\n",
      "[notice] A new release of pip available: 22.3.1 -> 23.1.2\n",
      "[notice] To update, run: python.exe -m pip install --upgrade pip\n"
     ]
    },
    {
     "name": "stdout",
     "output_type": "stream",
     "text": [
      "Collecting gitpython>=3.1.30\n",
      "  Using cached GitPython-3.1.31-py3-none-any.whl (184 kB)\n",
      "Collecting matplotlib>=3.3\n",
      "  Using cached matplotlib-3.7.1-cp311-cp311-win_amd64.whl (7.6 MB)\n",
      "Requirement already satisfied: numpy>=1.18.5 in c:\\python\\lib\\site-packages (from -r requirements.txt (line 7)) (1.24.3)\n",
      "Requirement already satisfied: opencv-python>=4.1.1 in c:\\python\\lib\\site-packages (from -r requirements.txt (line 8)) (4.7.0.72)\n",
      "Requirement already satisfied: Pillow>=7.1.2 in c:\\python\\lib\\site-packages (from -r requirements.txt (line 9)) (9.5.0)\n",
      "Requirement already satisfied: psutil in c:\\users\\idjyi\\appdata\\roaming\\python\\python311\\site-packages (from -r requirements.txt (line 10)) (5.9.5)\n",
      "Requirement already satisfied: PyYAML>=5.3.1 in c:\\python\\lib\\site-packages (from -r requirements.txt (line 11)) (6.0)\n",
      "Requirement already satisfied: requests>=2.23.0 in c:\\python\\lib\\site-packages (from -r requirements.txt (line 12)) (2.31.0)\n",
      "Requirement already satisfied: scipy>=1.4.1 in c:\\python\\lib\\site-packages (from -r requirements.txt (line 13)) (1.10.1)\n",
      "Collecting thop>=0.1.1\n",
      "  Using cached thop-0.1.1.post2209072238-py3-none-any.whl (15 kB)\n",
      "Requirement already satisfied: torch>=1.7.0 in c:\\python\\lib\\site-packages (from -r requirements.txt (line 15)) (2.0.1)\n",
      "Collecting torchvision>=0.8.1\n",
      "  Using cached torchvision-0.15.2-cp311-cp311-win_amd64.whl (1.2 MB)\n",
      "Requirement already satisfied: tqdm>=4.64.0 in c:\\python\\lib\\site-packages (from -r requirements.txt (line 17)) (4.65.0)\n",
      "Collecting ultralytics>=8.0.100\n",
      "  Using cached ultralytics-8.0.110-py3-none-any.whl (592 kB)\n",
      "Collecting pandas>=1.1.4\n",
      "  Using cached pandas-2.0.2-cp311-cp311-win_amd64.whl (10.6 MB)\n",
      "Collecting seaborn>=0.11.0\n",
      "  Using cached seaborn-0.12.2-py3-none-any.whl (293 kB)\n",
      "Requirement already satisfied: setuptools>=65.5.1 in c:\\python\\lib\\site-packages (from -r requirements.txt (line 42)) (67.8.0)\n",
      "Requirement already satisfied: gitdb<5,>=4.0.1 in c:\\python\\lib\\site-packages (from gitpython>=3.1.30->-r requirements.txt (line 5)) (4.0.10)\n",
      "Requirement already satisfied: contourpy>=1.0.1 in c:\\python\\lib\\site-packages (from matplotlib>=3.3->-r requirements.txt (line 6)) (1.0.7)\n",
      "Requirement already satisfied: cycler>=0.10 in c:\\python\\lib\\site-packages (from matplotlib>=3.3->-r requirements.txt (line 6)) (0.11.0)\n",
      "Requirement already satisfied: fonttools>=4.22.0 in c:\\python\\lib\\site-packages (from matplotlib>=3.3->-r requirements.txt (line 6)) (4.39.4)\n",
      "Requirement already satisfied: kiwisolver>=1.0.1 in c:\\python\\lib\\site-packages (from matplotlib>=3.3->-r requirements.txt (line 6)) (1.4.4)\n",
      "Requirement already satisfied: packaging>=20.0 in c:\\users\\idjyi\\appdata\\roaming\\python\\python311\\site-packages (from matplotlib>=3.3->-r requirements.txt (line 6)) (23.1)\n",
      "Requirement already satisfied: pyparsing>=2.3.1 in c:\\python\\lib\\site-packages (from matplotlib>=3.3->-r requirements.txt (line 6)) (3.0.9)\n",
      "Requirement already satisfied: python-dateutil>=2.7 in c:\\users\\idjyi\\appdata\\roaming\\python\\python311\\site-packages (from matplotlib>=3.3->-r requirements.txt (line 6)) (2.8.2)\n",
      "Requirement already satisfied: charset-normalizer<4,>=2 in c:\\python\\lib\\site-packages (from requests>=2.23.0->-r requirements.txt (line 12)) (3.1.0)\n",
      "Requirement already satisfied: idna<4,>=2.5 in c:\\python\\lib\\site-packages (from requests>=2.23.0->-r requirements.txt (line 12)) (3.4)\n",
      "Requirement already satisfied: urllib3<3,>=1.21.1 in c:\\python\\lib\\site-packages (from requests>=2.23.0->-r requirements.txt (line 12)) (2.0.2)\n",
      "Requirement already satisfied: certifi>=2017.4.17 in c:\\python\\lib\\site-packages (from requests>=2.23.0->-r requirements.txt (line 12)) (2023.5.7)\n",
      "Requirement already satisfied: filelock in c:\\python\\lib\\site-packages (from torch>=1.7.0->-r requirements.txt (line 15)) (3.12.0)\n",
      "Requirement already satisfied: typing-extensions in c:\\python\\lib\\site-packages (from torch>=1.7.0->-r requirements.txt (line 15)) (4.6.2)\n",
      "Requirement already satisfied: sympy in c:\\python\\lib\\site-packages (from torch>=1.7.0->-r requirements.txt (line 15)) (1.12)\n",
      "Requirement already satisfied: networkx in c:\\python\\lib\\site-packages (from torch>=1.7.0->-r requirements.txt (line 15)) (3.1)\n",
      "Requirement already satisfied: jinja2 in c:\\python\\lib\\site-packages (from torch>=1.7.0->-r requirements.txt (line 15)) (3.1.2)\n",
      "Requirement already satisfied: colorama in c:\\python\\lib\\site-packages (from tqdm>=4.64.0->-r requirements.txt (line 17)) (0.4.6)\n",
      "Requirement already satisfied: pytz>=2020.1 in c:\\python\\lib\\site-packages (from pandas>=1.1.4->-r requirements.txt (line 27)) (2023.3)\n",
      "Requirement already satisfied: tzdata>=2022.1 in c:\\python\\lib\\site-packages (from pandas>=1.1.4->-r requirements.txt (line 27)) (2023.3)\n",
      "Requirement already satisfied: smmap<6,>=3.0.1 in c:\\python\\lib\\site-packages (from gitdb<5,>=4.0.1->gitpython>=3.1.30->-r requirements.txt (line 5)) (5.0.0)\n",
      "Requirement already satisfied: six>=1.5 in c:\\users\\idjyi\\appdata\\roaming\\python\\python311\\site-packages (from python-dateutil>=2.7->matplotlib>=3.3->-r requirements.txt (line 6)) (1.16.0)\n",
      "Requirement already satisfied: MarkupSafe>=2.0 in c:\\python\\lib\\site-packages (from jinja2->torch>=1.7.0->-r requirements.txt (line 15)) (2.1.2)\n",
      "Requirement already satisfied: mpmath>=0.19 in c:\\python\\lib\\site-packages (from sympy->torch>=1.7.0->-r requirements.txt (line 15)) (1.3.0)\n",
      "Installing collected packages: pandas, matplotlib, gitpython, torchvision, thop, seaborn, ultralytics\n",
      "Successfully installed gitpython-3.1.31 matplotlib-3.7.1 pandas-2.0.2 seaborn-0.12.2 thop-0.1.1.post2209072238 torchvision-0.15.2 ultralytics-8.0.110\n",
      "Note: you may need to restart the kernel to use updated packages.\n"
     ]
    },
    {
     "name": "stderr",
     "output_type": "stream",
     "text": [
      "\n",
      "[notice] A new release of pip available: 22.3.1 -> 23.1.2\n",
      "[notice] To update, run: python.exe -m pip install --upgrade pip\n"
     ]
    }
   ],
   "source": [
    "%cd D:/id57176422/yolov5\n",
    "%pip install -r requirements.txt"
   ]
  },
  {
   "cell_type": "code",
   "execution_count": 14,
   "metadata": {},
   "outputs": [
    {
     "name": "stdout",
     "output_type": "stream",
     "text": [
      "C:\\test123\n"
     ]
    }
   ],
   "source": [
    "%cd C:/test123/"
   ]
  },
  {
   "cell_type": "code",
   "execution_count": null,
   "metadata": {},
   "outputs": [],
   "source": []
  },
  {
   "cell_type": "code",
   "execution_count": 16,
   "metadata": {},
   "outputs": [
    {
     "name": "stdout",
     "output_type": "stream",
     "text": [
      "D:\\id57176422\\yolov5\n"
     ]
    }
   ],
   "source": [
    "%cd D:/id57176422/yolov5/"
   ]
  },
  {
   "cell_type": "code",
   "execution_count": 17,
   "metadata": {},
   "outputs": [
    {
     "data": {
      "text/plain": [
       "'D:\\\\id57176422\\\\yolov5'"
      ]
     },
     "execution_count": 17,
     "metadata": {},
     "output_type": "execute_result"
    }
   ],
   "source": [
    "%pwd"
   ]
  },
  {
   "cell_type": "code",
   "execution_count": 18,
   "metadata": {},
   "outputs": [
    {
     "name": "stderr",
     "output_type": "stream",
     "text": [
      "\u001b[34m\u001b[1msegment\\predict: \u001b[0mweights=['best.pt'], source=C:/test123/processed_image.jpg, data=data\\coco128.yaml, imgsz=[736, 736], conf_thres=0.2, iou_thres=0.45, max_det=1000, device=, view_img=False, save_txt=True, save_conf=False, save_crop=False, nosave=False, classes=None, agnostic_nms=False, augment=False, visualize=False, update=False, project=runs\\predict-seg, name=exp, exist_ok=False, line_thickness=3, hide_labels=False, hide_conf=False, half=False, dnn=False, vid_stride=1, retina_masks=True\n",
      "YOLOv5  v7.0-172-gc3c1304 Python-3.11.3 torch-2.0.1+cpu CPU\n",
      "\n",
      "Fusing layers... \n",
      "YOLOv5s-seg summary: 165 layers, 7425392 parameters, 0 gradients, 25.8 GFLOPs\n",
      "image 1/1 C:\\test123\\processed_image.jpg: 512x736 1 bed, 1 blanket, 2 carpets, 1 pillow, 1 shelves, 179.2ms\n",
      "Speed: 0.0ms pre-process, 179.2ms inference, 1.4ms NMS per image at shape (1, 3, 736, 736)\n",
      "Results saved to \u001b[1mruns\\predict-seg\\exp\u001b[0m\n",
      "1 labels saved to runs\\predict-seg\\exp\\labels\n"
     ]
    }
   ],
   "source": [
    "!python segment/predict.py --weights best.pt --img 736 --conf 0.2 --source \"C:/test123/processed_image.jpg\" --retina-masks --save-txt"
   ]
  },
  {
   "cell_type": "code",
   "execution_count": null,
   "metadata": {},
   "outputs": [],
   "source": []
  },
  {
   "cell_type": "code",
   "execution_count": 9,
   "metadata": {},
   "outputs": [
    {
     "name": "stdout",
     "output_type": "stream",
     "text": [
      "(178, 87, 87)\n"
     ]
    }
   ],
   "source": [
    "import cv2\n",
    "import numpy as np\n",
    "bgr_color=(87, 87, 178)\n",
    "print(bgr_color[::-1])"
   ]
  },
  {
   "cell_type": "code",
   "execution_count": 2,
   "metadata": {},
   "outputs": [
    {
     "name": "stdout",
     "output_type": "stream",
     "text": [
      "Requirement already satisfied: PyNaver in c:\\python\\lib\\site-packages (0.0.10)\n",
      "Note: you may need to restart the kernel to use updated packages.\n"
     ]
    },
    {
     "name": "stderr",
     "output_type": "stream",
     "text": [
      "\n",
      "[notice] A new release of pip available: 22.3.1 -> 23.1.2\n",
      "[notice] To update, run: python.exe -m pip install --upgrade pip\n"
     ]
    }
   ],
   "source": [
    "#cmd에 pip install PyNaver --upgrade\n",
    "%pip install PyNaver --upgrade"
   ]
  },
  {
   "cell_type": "code",
   "execution_count": 6,
   "metadata": {},
   "outputs": [
    {
     "data": {
      "text/html": [
       "<div>\n",
       "<style scoped>\n",
       "    .dataframe tbody tr th:only-of-type {\n",
       "        vertical-align: middle;\n",
       "    }\n",
       "\n",
       "    .dataframe tbody tr th {\n",
       "        vertical-align: top;\n",
       "    }\n",
       "\n",
       "    .dataframe thead th {\n",
       "        text-align: right;\n",
       "    }\n",
       "</style>\n",
       "<table border=\"1\" class=\"dataframe\">\n",
       "  <thead>\n",
       "    <tr style=\"text-align: right;\">\n",
       "      <th></th>\n",
       "      <th>날짜</th>\n",
       "      <th>카테고리1</th>\n",
       "      <th>카테고리2</th>\n",
       "    </tr>\n",
       "  </thead>\n",
       "  <tbody>\n",
       "    <tr>\n",
       "      <th>237</th>\n",
       "      <td>2022-08-26</td>\n",
       "      <td>52.63769</td>\n",
       "      <td>31.84794</td>\n",
       "    </tr>\n",
       "    <tr>\n",
       "      <th>238</th>\n",
       "      <td>2022-08-27</td>\n",
       "      <td>59.23958</td>\n",
       "      <td>34.21125</td>\n",
       "    </tr>\n",
       "    <tr>\n",
       "      <th>239</th>\n",
       "      <td>2022-08-28</td>\n",
       "      <td>69.51918</td>\n",
       "      <td>37.97973</td>\n",
       "    </tr>\n",
       "    <tr>\n",
       "      <th>240</th>\n",
       "      <td>2022-08-29</td>\n",
       "      <td>68.35153</td>\n",
       "      <td>41.28070</td>\n",
       "    </tr>\n",
       "    <tr>\n",
       "      <th>241</th>\n",
       "      <td>2022-08-30</td>\n",
       "      <td>70.99945</td>\n",
       "      <td>38.83789</td>\n",
       "    </tr>\n",
       "  </tbody>\n",
       "</table>\n",
       "</div>"
      ],
      "text/plain": [
       "             날짜     카테고리1     카테고리2\n",
       "237  2022-08-26  52.63769  31.84794\n",
       "238  2022-08-27  59.23958  34.21125\n",
       "239  2022-08-28  69.51918  37.97973\n",
       "240  2022-08-29  68.35153  41.28070\n",
       "241  2022-08-30  70.99945  38.83789"
      ]
     },
     "execution_count": 6,
     "metadata": {},
     "output_type": "execute_result"
    }
   ],
   "source": [
    "from PyNaver import Naver\n",
    "client_id = \"3O1kSEYfzf_rFcCh6lhX\"\n",
    "client_secret = \"AbXjtewoWT\"\n",
    "\n",
    "# 파라미터\n",
    "startDate = \"2022-01-01\"\n",
    "endDate = \"2022-08-30\"\n",
    "timeUnit = \"date\"\n",
    "category = [\n",
    "    {\n",
    "        \"name\": \"카테고리1\",\n",
    "        \"param\": [\"50000000\"],\n",
    "    },\n",
    "    {\n",
    "        \"name\": \"카테고리2\",\n",
    "        \"param\": [\"50000002\"],\n",
    "    },\n",
    "]\n",
    "\n",
    "# 실행\n",
    "df = api.datalab_shopping_categories(startDate, endDate, timeUnit, category)\n",
    "df.tail()"
   ]
  },
  {
   "cell_type": "code",
   "execution_count": 9,
   "metadata": {},
   "outputs": [
    {
     "name": "stdout",
     "output_type": "stream",
     "text": [
      "유리의 인테리어 블로그 인천<b>소파</b> 가격까지 굿!\n",
      "COSMIC CAMPING 패브릭<b>소파</b> 기가막히네요\n",
      "일상 내 기록 :) 몇년써도 거뜬 4인용<b>소파</b>\n",
      "지니의 인테리어 블로그 부산<b>소파</b> 색다른 매력가득\n",
      "이이 노트 <b>소파</b>브랜드 마스터 된 이야기\n",
      "세미살림 감성<b>소파</b> 찾은 광명가구단지\n",
      "아리맘의 요리/맛집 일기 평택<b>소파</b> 좋은 퀄리티 완벽함 갖춘 매장\n",
      "멘토 혀니맘♡ 까사미아 캄포<b>소파</b> 꼼꼼히 비교해보기\n",
      "초록여신 핑거쇼룸 제주가구 <b>소파</b> 저렴 가구점\n",
      "일상생활에 필요한게 뭘까? 양산<b>소파</b> 훌륭했던 선택\n"
     ]
    }
   ],
   "source": [
    "import os\n",
    "import sys\n",
    "import urllib.request\n",
    "import json\n",
    "\n",
    "client_id = \"YmwEYBDY7aXnrocNn5Zx\"\n",
    "client_secret = \"0daNsnl46p\"\n",
    "\n",
    "encText = urllib.parse.quote(\"소파\")\n",
    "url = \"https://openapi.naver.com/v1/search/blog?query=\" + encText # JSON 결과\n",
    "request = urllib.request.Request(url)\n",
    "request.add_header(\"X-Naver-Client-Id\",client_id)\n",
    "request.add_header(\"X-Naver-Client-Secret\",client_secret)\n",
    "response = urllib.request.urlopen(request)\n",
    "rescode = response.getcode()\n",
    "if(rescode==200):\n",
    "    response_body = response.read()\n",
    "    response_dict = json.loads(response_body.decode('utf-8'))\n",
    "    for item in response_dict['items']:\n",
    "        print(item['bloggername'], item['title']) # 'thumbnail' field doesn't exist\n",
    "else:\n",
    "    print(\"Error Code:\" + rescode)"
   ]
  },
  {
   "cell_type": "code",
   "execution_count": 10,
   "metadata": {},
   "outputs": [
    {
     "name": "stdout",
     "output_type": "stream",
     "text": [
      "헤스티아 아미 코너 코브라 4 5 인용 기능성 아쿠아텍스 패브릭 코브라 코너 소파 : 헤스티아가구갤러리 http://shop1.phinf.naver.net/20230516_194/16842262460877NUg0_JPEG/509135342171790_1417841652.jpg https://search.pstatic.net/common/?type=b150&src=http://shop1.phinf.naver.net/20230516_194/16842262460877NUg0_JPEG/509135342171790_1417841652.jpg\n",
      "비너스 1인 2인 가죽소파 3인 4인 : 가구본 http://shop1.phinf.naver.net/20230503_147/1683116337699IdfMj_JPEG/10237076391914029_932385427.jpg https://search.pstatic.net/common/?type=b150&src=http://shop1.phinf.naver.net/20230503_147/1683116337699IdfMj_JPEG/10237076391914029_932385427.jpg\n",
      "까사미아 캄포슬림 1인소파 카우치베드형 http://shopping.phinf.naver.net/main_3967104/39671046618.20230428141201.jpg https://search.pstatic.net/common/?type=b150&src=http://shopping.phinf.naver.net/main_3967104/39671046618.20230428141201.jpg\n",
      "밀크티 3인 소파 : 와이즈굿즈 http://shop1.phinf.naver.net/20230503_266/1683095853120HUIE7_JPEG/4253068694550583_1274805504.jpg https://search.pstatic.net/common/?type=b150&src=http://shop1.phinf.naver.net/20230503_266/1683095853120HUIE7_JPEG/4253068694550583_1274805504.jpg\n",
      "휴먼앤퍼니처 로디 아쿠아 패브릭 쇼파 카우치 3인용 4인용 소파 : 휴먼앤퍼니처 http://shop1.phinf.naver.net/20230309_209/16783487239244mtft_JPEG/39309623942579810_520408360.jpg https://search.pstatic.net/common/?type=b150&src=http://shop1.phinf.naver.net/20230309_209/16783487239244mtft_JPEG/39309623942579810_520408360.jpg\n",
      "나뚜찌에디션스 달트 네이비블루 3인 미니멀 소파 : 나뚜찌 http://shop1.phinf.naver.net/20230511_56/16837863033956mlEM_JPEG/31723010215825824_896255134.jpg https://search.pstatic.net/common/?type=b150&src=http://shop1.phinf.naver.net/20230511_56/16837863033956mlEM_JPEG/31723010215825824_896255134.jpg\n",
      "[1300K] 스프 패브릭 3인용 소파 : 천삼백케이 http://shop1.phinf.naver.net/20230415_281/1681493160258MX0ph_JPEG/215027463977_7.jpg https://search.pstatic.net/common/?type=b150&src=http://shop1.phinf.naver.net/20230415_281/1681493160258MX0ph_JPEG/215027463977_7.jpg\n",
      "일반소파 > Popit Sofa | 예쁜템들 모여사는 오늘의집 스토어 Popit Sofa https://image.ohou.se/i/bucketplace-v2-development/uploads/productions/166242719293873698.JPG?gif=1&w=720&h=480&c=c https://search.pstatic.net/sunny/?type=b150&src=https://image.ohou.se/i/bucketplace-v2-development/uploads/productions/166242719293873698.JPG?gif=1&w=720&h=480&c=c\n",
      "북유럽하우스 토리미니 패브릭 소파 : 바잉큐레이터 http://shop1.phinf.naver.net/20220926_31/1664181755650VR6fU_JPEG/100021.jpg https://search.pstatic.net/common/?type=b150&src=http://shop1.phinf.naver.net/20220926_31/1664181755650VR6fU_JPEG/100021.jpg\n",
      "앤트레디션 소파 develius EV1J, EV1K /Hallingdal [예약구매] : andtradition http://shop1.phinf.naver.net/20230421_54/1682057377084FFe5s_JPEG/1992557895731136_201518977.jpg https://search.pstatic.net/common/?type=b150&src=http://shop1.phinf.naver.net/20230421_54/1682057377084FFe5s_JPEG/1992557895731136_201518977.jpg\n"
     ]
    }
   ],
   "source": [
    "import os\n",
    "import sys\n",
    "import urllib.request\n",
    "import json\n",
    "\n",
    "client_id = \"YmwEYBDY7aXnrocNn5Zx\"\n",
    "client_secret = \"0daNsnl46p\"\n",
    "\n",
    "encText = urllib.parse.quote(\"소파\")\n",
    "url = \"https://openapi.naver.com/v1/search/image?query=\" + encText\n",
    "request = urllib.request.Request(url)\n",
    "request.add_header(\"X-Naver-Client-Id\",client_id)\n",
    "request.add_header(\"X-Naver-Client-Secret\",client_secret)\n",
    "response = urllib.request.urlopen(request)\n",
    "rescode = response.getcode()\n",
    "if(rescode==200):\n",
    "    response_body = response.read()\n",
    "    response_dict = json.loads(response_body.decode('utf-8'))\n",
    "    for item in response_dict['items']:\n",
    "        print(item['title'], item['link'], item['thumbnail'])\n",
    "else:\n",
    "    print(\"Error Code:\" + rescode)"
   ]
  },
  {
   "cell_type": "code",
   "execution_count": null,
   "metadata": {},
   "outputs": [],
   "source": []
  },
  {
   "cell_type": "code",
   "execution_count": 14,
   "metadata": {},
   "outputs": [
    {
     "name": "stdout",
     "output_type": "stream",
     "text": [
      "헤스티아 아미 코너 코브라 4 5 인용 기능성 아쿠아텍스 패브릭 코브라 코너 소파 : 헤스티아가구갤러리\n"
     ]
    },
    {
     "data": {
      "text/html": [
       "<img src=\"http://shop1.phinf.naver.net/20230516_194/16842262460877NUg0_JPEG/509135342171790_1417841652.jpg\" width=\"240\" height=\"240\"/>"
      ],
      "text/plain": [
       "<IPython.core.display.Image object>"
      ]
     },
     "metadata": {},
     "output_type": "display_data"
    },
    {
     "name": "stdout",
     "output_type": "stream",
     "text": [
      "비너스 1인 2인 가죽소파 3인 4인 : 가구본\n"
     ]
    },
    {
     "data": {
      "text/html": [
       "<img src=\"http://shop1.phinf.naver.net/20230503_147/1683116337699IdfMj_JPEG/10237076391914029_932385427.jpg\" width=\"240\" height=\"240\"/>"
      ],
      "text/plain": [
       "<IPython.core.display.Image object>"
      ]
     },
     "metadata": {},
     "output_type": "display_data"
    },
    {
     "name": "stdout",
     "output_type": "stream",
     "text": [
      "까사미아 캄포슬림 1인소파 카우치베드형\n"
     ]
    },
    {
     "data": {
      "text/html": [
       "<img src=\"http://shopping.phinf.naver.net/main_3967104/39671046618.20230428141201.jpg\" width=\"240\" height=\"240\"/>"
      ],
      "text/plain": [
       "<IPython.core.display.Image object>"
      ]
     },
     "metadata": {},
     "output_type": "display_data"
    },
    {
     "name": "stdout",
     "output_type": "stream",
     "text": [
      "밀크티 3인 소파 : 와이즈굿즈\n"
     ]
    },
    {
     "data": {
      "text/html": [
       "<img src=\"http://shop1.phinf.naver.net/20230503_266/1683095853120HUIE7_JPEG/4253068694550583_1274805504.jpg\" width=\"240\" height=\"240\"/>"
      ],
      "text/plain": [
       "<IPython.core.display.Image object>"
      ]
     },
     "metadata": {},
     "output_type": "display_data"
    },
    {
     "name": "stdout",
     "output_type": "stream",
     "text": [
      "휴먼앤퍼니처 로디 아쿠아 패브릭 쇼파 카우치 3인용 4인용 소파 : 휴먼앤퍼니처\n"
     ]
    },
    {
     "data": {
      "text/html": [
       "<img src=\"http://shop1.phinf.naver.net/20230309_209/16783487239244mtft_JPEG/39309623942579810_520408360.jpg\" width=\"240\" height=\"240\"/>"
      ],
      "text/plain": [
       "<IPython.core.display.Image object>"
      ]
     },
     "metadata": {},
     "output_type": "display_data"
    },
    {
     "name": "stdout",
     "output_type": "stream",
     "text": [
      "나뚜찌에디션스 달트 네이비블루 3인 미니멀 소파 : 나뚜찌\n"
     ]
    },
    {
     "data": {
      "text/html": [
       "<img src=\"http://shop1.phinf.naver.net/20230511_56/16837863033956mlEM_JPEG/31723010215825824_896255134.jpg\" width=\"240\" height=\"240\"/>"
      ],
      "text/plain": [
       "<IPython.core.display.Image object>"
      ]
     },
     "metadata": {},
     "output_type": "display_data"
    },
    {
     "name": "stdout",
     "output_type": "stream",
     "text": [
      "[1300K] 스프 패브릭 3인용 소파 : 천삼백케이\n"
     ]
    },
    {
     "data": {
      "text/html": [
       "<img src=\"http://shop1.phinf.naver.net/20230415_281/1681493160258MX0ph_JPEG/215027463977_7.jpg\" width=\"240\" height=\"240\"/>"
      ],
      "text/plain": [
       "<IPython.core.display.Image object>"
      ]
     },
     "metadata": {},
     "output_type": "display_data"
    },
    {
     "name": "stdout",
     "output_type": "stream",
     "text": [
      "일반소파 > Popit Sofa | 예쁜템들 모여사는 오늘의집 스토어 Popit Sofa\n"
     ]
    },
    {
     "data": {
      "text/html": [
       "<img src=\"https://image.ohou.se/i/bucketplace-v2-development/uploads/productions/166242719293873698.JPG?gif=1&w=720&h=480&c=c\" width=\"240\" height=\"240\"/>"
      ],
      "text/plain": [
       "<IPython.core.display.Image object>"
      ]
     },
     "metadata": {},
     "output_type": "display_data"
    },
    {
     "name": "stdout",
     "output_type": "stream",
     "text": [
      "북유럽하우스 토리미니 패브릭 소파 : 바잉큐레이터\n"
     ]
    },
    {
     "data": {
      "text/html": [
       "<img src=\"http://shop1.phinf.naver.net/20220926_31/1664181755650VR6fU_JPEG/100021.jpg\" width=\"240\" height=\"240\"/>"
      ],
      "text/plain": [
       "<IPython.core.display.Image object>"
      ]
     },
     "metadata": {},
     "output_type": "display_data"
    },
    {
     "name": "stdout",
     "output_type": "stream",
     "text": [
      "앤트레디션 소파 develius EV1J, EV1K /Hallingdal [예약구매] : andtradition\n"
     ]
    },
    {
     "data": {
      "text/html": [
       "<img src=\"http://shop1.phinf.naver.net/20230421_54/1682057377084FFe5s_JPEG/1992557895731136_201518977.jpg\" width=\"240\" height=\"240\"/>"
      ],
      "text/plain": [
       "<IPython.core.display.Image object>"
      ]
     },
     "metadata": {},
     "output_type": "display_data"
    }
   ],
   "source": [
    "import os\n",
    "import sys\n",
    "import urllib.request\n",
    "import json\n",
    "from IPython.display import Image, display\n",
    "\n",
    "client_id = \"YmwEYBDY7aXnrocNn5Zx\"\n",
    "client_secret = \"0daNsnl46p\"\n",
    "\n",
    "encText = urllib.parse.quote(\"소파\")\n",
    "url = \"https://openapi.naver.com/v1/search/image?query=\" + encText\n",
    "request = urllib.request.Request(url)\n",
    "request.add_header(\"X-Naver-Client-Id\",client_id)\n",
    "request.add_header(\"X-Naver-Client-Secret\",client_secret)\n",
    "response = urllib.request.urlopen(request)\n",
    "rescode = response.getcode()\n",
    "if(rescode==200):\n",
    "    response_body = response.read()\n",
    "    response_dict = json.loads(response_body.decode('utf-8'))\n",
    "    for item in response_dict['items']:\n",
    "        print(item['title'])\n",
    "        display(Image(url=item['link'], width=240, height=240))\n",
    "else:\n",
    "    print(\"Error Code:\" + rescode)"
   ]
  },
  {
   "cell_type": "code",
   "execution_count": null,
   "metadata": {},
   "outputs": [],
   "source": []
  },
  {
   "cell_type": "code",
   "execution_count": 1,
   "metadata": {},
   "outputs": [],
   "source": [
    "# 네이버 검색 API 예제 - 블로그 검색\n",
    "import os\n",
    "import sys\n",
    "import urllib.request\n",
    "client_id = \"3O1kSEYfzf_rFcCh6lhX\"\n",
    "client_secret = \"AbXjtewoWT\"\n",
    "\n",
    "query = urllib.parse.quote(input(\"가구\"))\n",
    "display = 10\n",
    "start =1\n",
    "end = 20\n",
    "for start_index in range(start, end, display):\n",
    "    url = \"https://openapi.naver.com/v1/search/shop?query=\" + query + \"&display=\"+str(display)+\"&start=\"+str(start_index) \n",
    "    # JSON 결과\n",
    "    # url = \"https://openapi.naver.com/v1/search/blog.xml?query=\" + encText # XML 결과\n",
    "    request = urllib.request.Request(url)\n",
    "    request.add_header(\"X-Naver-Client-Id\",client_id)\n",
    "    request.add_header(\"X-Naver-Client-Secret\",client_secret)\n",
    "    response = urllib.request.urlopen(request)\n",
    "    rescode = response.getcode()\n",
    "    if(rescode==200):\n",
    "        response_body = response.read()\n",
    "        print(response_body.decode('utf-8'))\n",
    "    else:\n",
    "        print(\"Error Code:\" + rescode)"
   ]
  },
  {
   "cell_type": "code",
   "execution_count": null,
   "metadata": {},
   "outputs": [],
   "source": []
  },
  {
   "cell_type": "code",
   "execution_count": 24,
   "metadata": {},
   "outputs": [
    {
     "name": "stdout",
     "output_type": "stream",
     "text": [
      "주황색\n"
     ]
    }
   ],
   "source": [
    "import numpy as np\n",
    "\n",
    "def closest_color(rgb):\n",
    "    colors = {\"빨간색\": [0, 0, 255], \"주황색\": [0, 165, 255], \"노랑색\": [0, 255, 255], \n",
    "              \"초록색\": [0, 255, 0], \"파란색\": [255, 0, 0], \"남색\": [255, 0, 255], \n",
    "              \"보라색\": [238, 130, 238], \"흰색\": [255, 255, 255], \"검은색\": [0, 0, 0]}\n",
    "\n",
    "    closest_name = None\n",
    "    closest_distance = None  # Use 'closest_distance' instead of 'closest_color'\n",
    "    for name, color in colors.items():\n",
    "        distance = np.linalg.norm(np.array(color) - np.array(rgb))\n",
    "        if closest_distance is None or distance < closest_distance:\n",
    "            closest_distance = distance\n",
    "            closest_name = name\n",
    "\n",
    "    return closest_name\n",
    "\n",
    "# Test with a color\n",
    "rgb = [0, 128, 160]\n",
    "print(closest_color(rgb))  # This should print '빨간색'\n",
    "real_color=closest_color(rgb)"
   ]
  }
 ],
 "metadata": {
  "kernelspec": {
   "display_name": "Python 3",
   "language": "python",
   "name": "python3"
  },
  "language_info": {
   "codemirror_mode": {
    "name": "ipython",
    "version": 3
   },
   "file_extension": ".py",
   "mimetype": "text/x-python",
   "name": "python",
   "nbconvert_exporter": "python",
   "pygments_lexer": "ipython3",
   "version": "3.11.3"
  },
  "orig_nbformat": 4
 },
 "nbformat": 4,
 "nbformat_minor": 2
}
